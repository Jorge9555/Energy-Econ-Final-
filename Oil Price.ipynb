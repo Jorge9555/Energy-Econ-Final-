{
 "cells": [
  {
   "cell_type": "code",
   "execution_count": 5,
   "id": "96d6d038-04f9-4fe1-9393-e6d216713af5",
   "metadata": {},
   "outputs": [],
   "source": [
    "import os\n",
    "os.environ[\"GIT_PYTHON_GIT_PYTHON\"] = \"/path/to/your/python/interpreter\""
   ]
  },
  {
   "cell_type": "code",
   "execution_count": 1,
   "id": "93d04cf5-c3f2-448d-8ba0-ae680bd2725b",
   "metadata": {},
   "outputs": [],
   "source": [
    "import pandas as pd\n",
    "import numpy as np\n",
    "import seaborn as sns\n",
    "import matplotlib as plt\n",
    "plt.style.use(\"ggplot\")"
   ]
  },
  {
   "cell_type": "code",
   "execution_count": 2,
   "id": "135dad7e-c3f7-40c1-bf11-abc521c0f63a",
   "metadata": {},
   "outputs": [],
   "source": [
    "df = pd.read_csv(\"crude-oil-prices.csv\")"
   ]
  },
  {
   "cell_type": "code",
   "execution_count": 3,
   "id": "823f9160-5afa-47d9-a48b-8793cb18aec7",
   "metadata": {
    "scrolled": true
   },
   "outputs": [
    {
     "name": "stdout",
     "output_type": "stream",
     "text": [
      "    Entity      Code  Year       Price\n",
      "0    World  OWID_WRL  1861    3.082002\n",
      "1    World  OWID_WRL  1862    6.604290\n",
      "2    World  OWID_WRL  1863   19.812870\n",
      "3    World  OWID_WRL  1864   50.695790\n",
      "4    World  OWID_WRL  1865   41.449783\n",
      "..     ...       ...   ...         ...\n",
      "157  World  OWID_WRL  2018  448.526000\n",
      "158  World  OWID_WRL  2019  403.871640\n",
      "159  World  OWID_WRL  2020  263.154820\n",
      "160  World  OWID_WRL  2021  446.021640\n",
      "161  World  OWID_WRL  2022  637.282530\n",
      "\n",
      "[162 rows x 4 columns]\n"
     ]
    }
   ],
   "source": [
    "df = df.rename(columns={'Oil price - Crude prices since 1861 (current US$)': 'Price'})\n",
    "print(df)"
   ]
  },
  {
   "cell_type": "code",
   "execution_count": 5,
   "id": "be53947b-dc58-4fa6-a9a9-56ddc156b9b7",
   "metadata": {},
   "outputs": [],
   "source": [
    "df = df[['Year',\n",
    "       'Price']]"
   ]
  },
  {
   "cell_type": "code",
   "execution_count": 6,
   "id": "2a759ec1-d601-4cbc-b499-7d4c5d4aa24b",
   "metadata": {},
   "outputs": [],
   "source": [
    "df = df[-72:]"
   ]
  },
  {
   "cell_type": "code",
   "execution_count": 4,
   "id": "00806be6-634a-45e3-889b-f2292b517130",
   "metadata": {},
   "outputs": [
    {
     "data": {
      "text/html": [
       "<div>\n",
       "<style scoped>\n",
       "    .dataframe tbody tr th:only-of-type {\n",
       "        vertical-align: middle;\n",
       "    }\n",
       "\n",
       "    .dataframe tbody tr th {\n",
       "        vertical-align: top;\n",
       "    }\n",
       "\n",
       "    .dataframe thead th {\n",
       "        text-align: right;\n",
       "    }\n",
       "</style>\n",
       "<table border=\"1\" class=\"dataframe\">\n",
       "  <thead>\n",
       "    <tr style=\"text-align: right;\">\n",
       "      <th></th>\n",
       "      <th>Entity</th>\n",
       "      <th>Code</th>\n",
       "      <th>Year</th>\n",
       "      <th>Price</th>\n",
       "    </tr>\n",
       "  </thead>\n",
       "  <tbody>\n",
       "    <tr>\n",
       "      <th>0</th>\n",
       "      <td>World</td>\n",
       "      <td>OWID_WRL</td>\n",
       "      <td>1861</td>\n",
       "      <td>3.082002</td>\n",
       "    </tr>\n",
       "    <tr>\n",
       "      <th>1</th>\n",
       "      <td>World</td>\n",
       "      <td>OWID_WRL</td>\n",
       "      <td>1862</td>\n",
       "      <td>6.604290</td>\n",
       "    </tr>\n",
       "    <tr>\n",
       "      <th>2</th>\n",
       "      <td>World</td>\n",
       "      <td>OWID_WRL</td>\n",
       "      <td>1863</td>\n",
       "      <td>19.812870</td>\n",
       "    </tr>\n",
       "    <tr>\n",
       "      <th>3</th>\n",
       "      <td>World</td>\n",
       "      <td>OWID_WRL</td>\n",
       "      <td>1864</td>\n",
       "      <td>50.695790</td>\n",
       "    </tr>\n",
       "    <tr>\n",
       "      <th>4</th>\n",
       "      <td>World</td>\n",
       "      <td>OWID_WRL</td>\n",
       "      <td>1865</td>\n",
       "      <td>41.449783</td>\n",
       "    </tr>\n",
       "    <tr>\n",
       "      <th>5</th>\n",
       "      <td>World</td>\n",
       "      <td>OWID_WRL</td>\n",
       "      <td>1866</td>\n",
       "      <td>23.523851</td>\n",
       "    </tr>\n",
       "    <tr>\n",
       "      <th>6</th>\n",
       "      <td>World</td>\n",
       "      <td>OWID_WRL</td>\n",
       "      <td>1867</td>\n",
       "      <td>15.158419</td>\n",
       "    </tr>\n",
       "    <tr>\n",
       "      <th>7</th>\n",
       "      <td>World</td>\n",
       "      <td>OWID_WRL</td>\n",
       "      <td>1868</td>\n",
       "      <td>22.831974</td>\n",
       "    </tr>\n",
       "    <tr>\n",
       "      <th>8</th>\n",
       "      <td>World</td>\n",
       "      <td>OWID_WRL</td>\n",
       "      <td>1869</td>\n",
       "      <td>22.894873</td>\n",
       "    </tr>\n",
       "    <tr>\n",
       "      <th>9</th>\n",
       "      <td>World</td>\n",
       "      <td>OWID_WRL</td>\n",
       "      <td>1870</td>\n",
       "      <td>24.278627</td>\n",
       "    </tr>\n",
       "  </tbody>\n",
       "</table>\n",
       "</div>"
      ],
      "text/plain": [
       "  Entity      Code  Year      Price\n",
       "0  World  OWID_WRL  1861   3.082002\n",
       "1  World  OWID_WRL  1862   6.604290\n",
       "2  World  OWID_WRL  1863  19.812870\n",
       "3  World  OWID_WRL  1864  50.695790\n",
       "4  World  OWID_WRL  1865  41.449783\n",
       "5  World  OWID_WRL  1866  23.523851\n",
       "6  World  OWID_WRL  1867  15.158419\n",
       "7  World  OWID_WRL  1868  22.831974\n",
       "8  World  OWID_WRL  1869  22.894873\n",
       "9  World  OWID_WRL  1870  24.278627"
      ]
     },
     "execution_count": 4,
     "metadata": {},
     "output_type": "execute_result"
    }
   ],
   "source": [
    "df.head(10)"
   ]
  },
  {
   "cell_type": "code",
   "execution_count": 14,
   "id": "2269436f-119b-4ad9-80e6-eaf04ebf5af5",
   "metadata": {},
   "outputs": [
    {
     "data": {
      "text/plain": [
       "<bound method Series.sum of 90      10.755558\n",
       "91      10.755558\n",
       "92      12.139314\n",
       "93      12.139314\n",
       "94      12.139314\n",
       "          ...    \n",
       "157    448.526000\n",
       "158    403.871640\n",
       "159    263.154820\n",
       "160    446.021640\n",
       "161    637.282530\n",
       "Name: Price, Length: 72, dtype: float64>"
      ]
     },
     "execution_count": 14,
     "metadata": {},
     "output_type": "execute_result"
    }
   ],
   "source": [
    "df[\"Price\"].sum"
   ]
  }
 ],
 "metadata": {
  "kernelspec": {
   "display_name": "Python 3 (ipykernel)",
   "language": "python",
   "name": "python3"
  },
  "language_info": {
   "codemirror_mode": {
    "name": "ipython",
    "version": 3
   },
   "file_extension": ".py",
   "mimetype": "text/x-python",
   "name": "python",
   "nbconvert_exporter": "python",
   "pygments_lexer": "ipython3",
   "version": "3.10.5"
  }
 },
 "nbformat": 4,
 "nbformat_minor": 5
}
