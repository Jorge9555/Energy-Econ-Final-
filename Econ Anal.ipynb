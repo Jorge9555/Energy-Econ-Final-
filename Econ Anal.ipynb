{
 "cells": [
  {
   "cell_type": "markdown",
   "id": "e241a277-cf96-458c-bce5-3c1706412b02",
   "metadata": {},
   "source": [
    "# Energy Economics Final Project #"
   ]
  },
  {
   "cell_type": "markdown",
   "id": "eed8c4ce-9af2-46a9-8396-740c970441e8",
   "metadata": {},
   "source": [
    "## Hypothesis 1: ##\n",
    "There is a negative relationship, the more expensive oil is, the less Americans hold enviornmental issues at hand"
   ]
  },
  {
   "cell_type": "markdown",
   "id": "881b472c-5eed-41c0-98e2-b17f047ac0a3",
   "metadata": {},
   "source": [
    "I need to do a few things\n",
    "- Clean out the row data  for the first row\n",
    "- Split the results into 2 colunns\n",
    "- Create a new row with an percept of positive share based on the two new columns\n",
    "- add this to other table and make a graph\n"
   ]
  },
  {
   "cell_type": "code",
   "execution_count": 57,
   "id": "46bfc520-2cf5-4918-af21-4b11601a0ac7",
   "metadata": {},
   "outputs": [],
   "source": [
    "import pandas as pd\n",
    "import numpy as np\n",
    "import seaborn as sns\n",
    "import matplotlib as plt\n",
    "plt.style.use(\"ggplot\")"
   ]
  },
  {
   "cell_type": "markdown",
   "id": "f33e0726-17d5-49d7-918a-6da2e73151e0",
   "metadata": {},
   "source": [
    "## Cleaning Data Climate\\Oil Price ##"
   ]
  },
  {
   "cell_type": "markdown",
   "id": "1d7737c7-18e2-4fd0-a249-f56cda417627",
   "metadata": {
    "jp-MarkdownHeadingCollapsed": true
   },
   "source": [
    "### Climate ####"
   ]
  },
  {
   "cell_type": "code",
   "execution_count": 20,
   "id": "11e93dce-27d9-4ba7-8efa-ee990f6bf0f0",
   "metadata": {},
   "outputs": [],
   "source": [
    "df = pd.read_csv(\"Climate_1989-2023.csv\")"
   ]
  },
  {
   "cell_type": "code",
   "execution_count": 21,
   "id": "7a6152a0-e0f0-4289-81b8-e6f4c3456134",
   "metadata": {},
   "outputs": [
    {
     "data": {
      "text/plain": [
       "Index(['Global warming or climate change', 'Great Deal', 'Fair Amount',\n",
       "       'Only a little', 'Not at all', 'No opinion', 'Totals'],\n",
       "      dtype='object')"
      ]
     },
     "execution_count": 21,
     "metadata": {},
     "output_type": "execute_result"
    }
   ],
   "source": [
    "df.columns"
   ]
  },
  {
   "cell_type": "code",
   "execution_count": 22,
   "id": "136daf17-f769-4b75-af2d-5076d39735d1",
   "metadata": {},
   "outputs": [],
   "source": [
    "df = df[['Global warming or climate change', 'Great Deal', 'Fair Amount',\n",
    "       'Only a little', 'Not at all', 'No opinion']]"
   ]
  },
  {
   "cell_type": "code",
   "execution_count": 146,
   "id": "9f54355b-c01c-4445-8b13-9cbe1374e428",
   "metadata": {},
   "outputs": [],
   "source": [
    "#df.loc[:, 'Global warming or climate change'] = df['Global warming or climate change'].str.replace(\"MmAayr\",\"\")\n",
    "#this also does not work because there are too many unique strings in the column"
   ]
  },
  {
   "cell_type": "code",
   "execution_count": 133,
   "id": "349c42ff-bcb8-4329-a96e-f8cc2ab7e7dc",
   "metadata": {},
   "outputs": [],
   "source": [
    "#df['Global warming or climate change'] = df['Global warming or climate change'].str.replace('Mar 1-', '')\n",
    "#this did not work because there are too many unique characters in the type of rows"
   ]
  },
  {
   "cell_type": "code",
   "execution_count": 216,
   "id": "062257b9-2927-4b04-bfec-07fb428d3027",
   "metadata": {},
   "outputs": [],
   "source": [
    "\n",
    "#the problem here is that we are not able to specify how many of the things we need ot seperate due to thefact that soem spots have 7 spaces and others have 8"
   ]
  },
  {
   "cell_type": "code",
   "execution_count": 193,
   "id": "8e8685f4-44ea-4f4b-bd9a-9aa5bb2a8faa",
   "metadata": {},
   "outputs": [],
   "source": [
    "#df['Global warming or climate change'] = df['Global warming or climate change'].str.replace('Ma', '')"
   ]
  },
  {
   "cell_type": "code",
   "execution_count": 23,
   "id": "133db785-1757-42aa-b528-ce563e98e270",
   "metadata": {},
   "outputs": [],
   "source": [
    "df.loc[:, 'Global warming or climate change'] = df['Global warming or climate change'].str[:-6]\n",
    "#This was able to work because the : operator was able to indice and slice everything that was at the end of the string"
   ]
  },
  {
   "cell_type": "code",
   "execution_count": 24,
   "id": "9564326f-8d3c-47e2-9da3-176df6308fbf",
   "metadata": {},
   "outputs": [],
   "source": [
    "df['Global warming or climate change'] = df['Global warming or climate change'].str.replace('MaarOctApr', '')"
   ]
  },
  {
   "cell_type": "code",
   "execution_count": 25,
   "id": "544234ab-8ebe-4b3a-8519-5236cfe704bc",
   "metadata": {},
   "outputs": [],
   "source": [
    "df['Global warming or climate change'] = df['Global warming or climate change'].str.replace('M', '')"
   ]
  },
  {
   "cell_type": "code",
   "execution_count": 26,
   "id": "5540c43f-d584-493b-8767-3a0a39615ad7",
   "metadata": {},
   "outputs": [],
   "source": [
    "df['Global warming or climate change'] = df['Global warming or climate change'].str.replace('r', '')"
   ]
  },
  {
   "cell_type": "code",
   "execution_count": 27,
   "id": "af92bab0-7ff9-4369-8374-918bfb68740e",
   "metadata": {},
   "outputs": [],
   "source": [
    "df['Global warming or climate change'] = df['Global warming or climate change'].str.replace('A', '')"
   ]
  },
  {
   "cell_type": "code",
   "execution_count": 28,
   "id": "5434e118-e2d9-43d0-827d-a1d8e0998ed8",
   "metadata": {},
   "outputs": [],
   "source": [
    "df['Global warming or climate change'] = df['Global warming or climate change'].str.replace('Oct', '')"
   ]
  },
  {
   "cell_type": "code",
   "execution_count": 40,
   "id": "a540d661-fa4b-4804-9307-a308d3c4b387",
   "metadata": {},
   "outputs": [],
   "source": [
    "df['Year'] = df['Year'].str.replace('a', '')"
   ]
  },
  {
   "cell_type": "code",
   "execution_count": 41,
   "id": "da279b35-be44-4a95-bb8a-b297e356b2ef",
   "metadata": {},
   "outputs": [],
   "source": [
    "df['Year'] = df['Year'].str.replace('p', '')"
   ]
  },
  {
   "cell_type": "code",
   "execution_count": 29,
   "id": "760f2420-c015-4c11-b79e-9787bd7d4144",
   "metadata": {},
   "outputs": [
    {
     "data": {
      "text/html": [
       "<div>\n",
       "<style scoped>\n",
       "    .dataframe tbody tr th:only-of-type {\n",
       "        vertical-align: middle;\n",
       "    }\n",
       "\n",
       "    .dataframe tbody tr th {\n",
       "        vertical-align: top;\n",
       "    }\n",
       "\n",
       "    .dataframe thead th {\n",
       "        text-align: right;\n",
       "    }\n",
       "</style>\n",
       "<table border=\"1\" class=\"dataframe\">\n",
       "  <thead>\n",
       "    <tr style=\"text-align: right;\">\n",
       "      <th></th>\n",
       "      <th>Global warming or climate change</th>\n",
       "      <th>Great Deal</th>\n",
       "      <th>Fair Amount</th>\n",
       "      <th>Only a little</th>\n",
       "      <th>Not at all</th>\n",
       "      <th>No opinion</th>\n",
       "    </tr>\n",
       "  </thead>\n",
       "  <tbody>\n",
       "    <tr>\n",
       "      <th>0</th>\n",
       "      <td>2023 a</td>\n",
       "      <td>39</td>\n",
       "      <td>22</td>\n",
       "      <td>18</td>\n",
       "      <td>21</td>\n",
       "      <td>-</td>\n",
       "    </tr>\n",
       "    <tr>\n",
       "      <th>1</th>\n",
       "      <td>2022 a</td>\n",
       "      <td>43</td>\n",
       "      <td>22</td>\n",
       "      <td>18</td>\n",
       "      <td>17</td>\n",
       "      <td>-</td>\n",
       "    </tr>\n",
       "    <tr>\n",
       "      <th>2</th>\n",
       "      <td>2021 a</td>\n",
       "      <td>43</td>\n",
       "      <td>22</td>\n",
       "      <td>18</td>\n",
       "      <td>17</td>\n",
       "      <td>-</td>\n",
       "    </tr>\n",
       "    <tr>\n",
       "      <th>3</th>\n",
       "      <td>2020 a</td>\n",
       "      <td>46</td>\n",
       "      <td>19</td>\n",
       "      <td>15</td>\n",
       "      <td>19</td>\n",
       "      <td>-</td>\n",
       "    </tr>\n",
       "    <tr>\n",
       "      <th>4</th>\n",
       "      <td>2019 a</td>\n",
       "      <td>44</td>\n",
       "      <td>21</td>\n",
       "      <td>15</td>\n",
       "      <td>20</td>\n",
       "      <td>-</td>\n",
       "    </tr>\n",
       "    <tr>\n",
       "      <th>5</th>\n",
       "      <td>2018</td>\n",
       "      <td>43</td>\n",
       "      <td>20</td>\n",
       "      <td>18</td>\n",
       "      <td>18</td>\n",
       "      <td>-</td>\n",
       "    </tr>\n",
       "    <tr>\n",
       "      <th>6</th>\n",
       "      <td>2017</td>\n",
       "      <td>45</td>\n",
       "      <td>21</td>\n",
       "      <td>18</td>\n",
       "      <td>16</td>\n",
       "      <td>-</td>\n",
       "    </tr>\n",
       "    <tr>\n",
       "      <th>7</th>\n",
       "      <td>2016</td>\n",
       "      <td>37</td>\n",
       "      <td>27</td>\n",
       "      <td>17</td>\n",
       "      <td>19</td>\n",
       "      <td>-</td>\n",
       "    </tr>\n",
       "    <tr>\n",
       "      <th>8</th>\n",
       "      <td>2015</td>\n",
       "      <td>32</td>\n",
       "      <td>23</td>\n",
       "      <td>21</td>\n",
       "      <td>24</td>\n",
       "      <td>-</td>\n",
       "    </tr>\n",
       "    <tr>\n",
       "      <th>9</th>\n",
       "      <td>2014</td>\n",
       "      <td>34</td>\n",
       "      <td>22</td>\n",
       "      <td>19</td>\n",
       "      <td>24</td>\n",
       "      <td>-</td>\n",
       "    </tr>\n",
       "  </tbody>\n",
       "</table>\n",
       "</div>"
      ],
      "text/plain": [
       "  Global warming or climate change  Great Deal  Fair Amount  Only a little  \\\n",
       "0                           2023 a          39           22             18   \n",
       "1                           2022 a          43           22             18   \n",
       "2                           2021 a          43           22             18   \n",
       "3                           2020 a          46           19             15   \n",
       "4                           2019 a          44           21             15   \n",
       "5                            2018           43           20             18   \n",
       "6                            2017           45           21             18   \n",
       "7                            2016           37           27             17   \n",
       "8                            2015           32           23             21   \n",
       "9                            2014           34           22             19   \n",
       "\n",
       "   Not at all No opinion  \n",
       "0          21          -  \n",
       "1          17          -  \n",
       "2          17          -  \n",
       "3          19          -  \n",
       "4          20          -  \n",
       "5          18          -  \n",
       "6          16          -  \n",
       "7          19          -  \n",
       "8          24          -  \n",
       "9          24          -  "
      ]
     },
     "execution_count": 29,
     "metadata": {},
     "output_type": "execute_result"
    }
   ],
   "source": [
    "df.head(10)"
   ]
  },
  {
   "cell_type": "code",
   "execution_count": 30,
   "id": "da3682cd-290f-4a06-926b-91edfcefbc05",
   "metadata": {},
   "outputs": [
    {
     "data": {
      "text/plain": [
       "Index(['Global warming or climate change', 'Great Deal', 'Fair Amount',\n",
       "       'Only a little', 'Not at all', 'No opinion'],\n",
       "      dtype='object')"
      ]
     },
     "execution_count": 30,
     "metadata": {},
     "output_type": "execute_result"
    }
   ],
   "source": [
    "df.columns"
   ]
  },
  {
   "cell_type": "code",
   "execution_count": 31,
   "id": "5ece3856-31a5-4a16-a7c9-db0671314bd4",
   "metadata": {},
   "outputs": [],
   "source": [
    "df['Support_Env'] = df['Great Deal'] + df['Fair Amount']"
   ]
  },
  {
   "cell_type": "code",
   "execution_count": 32,
   "id": "6e902b8d-8017-49c0-bd3f-b097de2d0a7e",
   "metadata": {},
   "outputs": [],
   "source": [
    "df['Oppose_Env'] = df['Only a little'] + df['Not at all']"
   ]
  },
  {
   "cell_type": "code",
   "execution_count": 33,
   "id": "32f3fa98-a226-4cdf-8561-83ce1c8609fc",
   "metadata": {},
   "outputs": [
    {
     "data": {
      "text/plain": [
       "Index(['Global warming or climate change', 'Great Deal', 'Fair Amount',\n",
       "       'Only a little', 'Not at all', 'No opinion', 'Support_Env',\n",
       "       'Oppose_Env'],\n",
       "      dtype='object')"
      ]
     },
     "execution_count": 33,
     "metadata": {},
     "output_type": "execute_result"
    }
   ],
   "source": [
    "df.columns"
   ]
  },
  {
   "cell_type": "code",
   "execution_count": 34,
   "id": "ce54f996-ebd2-46c4-89f9-d869919e4842",
   "metadata": {},
   "outputs": [],
   "source": [
    "df = df[['Global warming or climate change', #'Great Deal', 'Fair Amount',\n",
    "      #'Only a little', 'Not at all', 'No opinion', \n",
    "         'Support_Env',\n",
    "       'Oppose_Env']]"
   ]
  },
  {
   "cell_type": "code",
   "execution_count": 35,
   "id": "a32e73cb-1ee6-4d9f-b3c7-ba5606517f44",
   "metadata": {},
   "outputs": [],
   "source": [
    "df = df.rename(columns={'Global warming or climate change': 'Year'})"
   ]
  },
  {
   "cell_type": "markdown",
   "id": "f1710382-35fd-494f-a8f7-67bbce4ed6d4",
   "metadata": {
    "jp-MarkdownHeadingCollapsed": true
   },
   "source": [
    "### Oil Price ###"
   ]
  },
  {
   "cell_type": "code",
   "execution_count": 43,
   "id": "002f4ad0-040c-4fac-9dd5-bba6ae200faa",
   "metadata": {},
   "outputs": [],
   "source": [
    "df2 = pd.read_csv(\"crude-oil-prices.csv\")"
   ]
  },
  {
   "cell_type": "code",
   "execution_count": 44,
   "id": "f19b904a-cb42-4375-b1b5-2163d27d3733",
   "metadata": {},
   "outputs": [
    {
     "data": {
      "text/html": [
       "<div>\n",
       "<style scoped>\n",
       "    .dataframe tbody tr th:only-of-type {\n",
       "        vertical-align: middle;\n",
       "    }\n",
       "\n",
       "    .dataframe tbody tr th {\n",
       "        vertical-align: top;\n",
       "    }\n",
       "\n",
       "    .dataframe thead th {\n",
       "        text-align: right;\n",
       "    }\n",
       "</style>\n",
       "<table border=\"1\" class=\"dataframe\">\n",
       "  <thead>\n",
       "    <tr style=\"text-align: right;\">\n",
       "      <th></th>\n",
       "      <th>Entity</th>\n",
       "      <th>Code</th>\n",
       "      <th>Year</th>\n",
       "      <th>Oil price - Crude prices since 1861 (current US$)</th>\n",
       "    </tr>\n",
       "  </thead>\n",
       "  <tbody>\n",
       "    <tr>\n",
       "      <th>0</th>\n",
       "      <td>World</td>\n",
       "      <td>OWID_WRL</td>\n",
       "      <td>1861</td>\n",
       "      <td>3.082002</td>\n",
       "    </tr>\n",
       "    <tr>\n",
       "      <th>1</th>\n",
       "      <td>World</td>\n",
       "      <td>OWID_WRL</td>\n",
       "      <td>1862</td>\n",
       "      <td>6.604290</td>\n",
       "    </tr>\n",
       "    <tr>\n",
       "      <th>2</th>\n",
       "      <td>World</td>\n",
       "      <td>OWID_WRL</td>\n",
       "      <td>1863</td>\n",
       "      <td>19.812870</td>\n",
       "    </tr>\n",
       "    <tr>\n",
       "      <th>3</th>\n",
       "      <td>World</td>\n",
       "      <td>OWID_WRL</td>\n",
       "      <td>1864</td>\n",
       "      <td>50.695790</td>\n",
       "    </tr>\n",
       "    <tr>\n",
       "      <th>4</th>\n",
       "      <td>World</td>\n",
       "      <td>OWID_WRL</td>\n",
       "      <td>1865</td>\n",
       "      <td>41.449783</td>\n",
       "    </tr>\n",
       "  </tbody>\n",
       "</table>\n",
       "</div>"
      ],
      "text/plain": [
       "  Entity      Code  Year  Oil price - Crude prices since 1861 (current US$)\n",
       "0  World  OWID_WRL  1861                                           3.082002\n",
       "1  World  OWID_WRL  1862                                           6.604290\n",
       "2  World  OWID_WRL  1863                                          19.812870\n",
       "3  World  OWID_WRL  1864                                          50.695790\n",
       "4  World  OWID_WRL  1865                                          41.449783"
      ]
     },
     "execution_count": 44,
     "metadata": {},
     "output_type": "execute_result"
    }
   ],
   "source": [
    "df2.head(5)"
   ]
  },
  {
   "cell_type": "code",
   "execution_count": 45,
   "id": "8a626ce3-ad4d-4bcc-ab94-7b4f6f2ed086",
   "metadata": {},
   "outputs": [],
   "source": [
    "df2 = df2.rename(columns={'Oil price - Crude prices since 1861 (current US$)': 'Price'})"
   ]
  },
  {
   "cell_type": "code",
   "execution_count": 283,
   "id": "ade441aa-c6ac-48e2-9494-6ec0cbe309b8",
   "metadata": {},
   "outputs": [
    {
     "data": {
      "text/plain": [
       "Index(['Year', 'Price'], dtype='object')"
      ]
     },
     "execution_count": 283,
     "metadata": {},
     "output_type": "execute_result"
    }
   ],
   "source": [
    "df2.columns"
   ]
  },
  {
   "cell_type": "code",
   "execution_count": 46,
   "id": "4a142761-ca7f-4de6-b063-f158895d2156",
   "metadata": {},
   "outputs": [],
   "source": [
    "df2 = df2[[\"Year\", \"Price\"]]"
   ]
  },
  {
   "cell_type": "code",
   "execution_count": 47,
   "id": "72506c53-13c2-4ba5-aeeb-b290b5c61312",
   "metadata": {},
   "outputs": [],
   "source": [
    "df2 = df2[-34:]"
   ]
  },
  {
   "cell_type": "code",
   "execution_count": 287,
   "id": "b650f6bd-11ed-40e1-970d-c5427ea9897b",
   "metadata": {},
   "outputs": [],
   "source": [
    "#df2 = display(df2[df2.columns[::-2]])"
   ]
  },
  {
   "cell_type": "code",
   "execution_count": 48,
   "id": "2ffb33d8-cdb2-40bf-80f4-f4393881d7b6",
   "metadata": {},
   "outputs": [
    {
     "data": {
      "text/html": [
       "<div>\n",
       "<style scoped>\n",
       "    .dataframe tbody tr th:only-of-type {\n",
       "        vertical-align: middle;\n",
       "    }\n",
       "\n",
       "    .dataframe tbody tr th {\n",
       "        vertical-align: top;\n",
       "    }\n",
       "\n",
       "    .dataframe thead th {\n",
       "        text-align: right;\n",
       "    }\n",
       "</style>\n",
       "<table border=\"1\" class=\"dataframe\">\n",
       "  <thead>\n",
       "    <tr style=\"text-align: right;\">\n",
       "      <th></th>\n",
       "      <th>Year</th>\n",
       "      <th>Price</th>\n",
       "    </tr>\n",
       "  </thead>\n",
       "  <tbody>\n",
       "    <tr>\n",
       "      <th>128</th>\n",
       "      <td>1989</td>\n",
       "      <td>114.638600</td>\n",
       "    </tr>\n",
       "    <tr>\n",
       "      <th>129</th>\n",
       "      <td>1990</td>\n",
       "      <td>149.230670</td>\n",
       "    </tr>\n",
       "    <tr>\n",
       "      <th>130</th>\n",
       "      <td>1991</td>\n",
       "      <td>125.801750</td>\n",
       "    </tr>\n",
       "    <tr>\n",
       "      <th>131</th>\n",
       "      <td>1992</td>\n",
       "      <td>121.524200</td>\n",
       "    </tr>\n",
       "    <tr>\n",
       "      <th>132</th>\n",
       "      <td>1993</td>\n",
       "      <td>106.748184</td>\n",
       "    </tr>\n",
       "  </tbody>\n",
       "</table>\n",
       "</div>"
      ],
      "text/plain": [
       "     Year       Price\n",
       "128  1989  114.638600\n",
       "129  1990  149.230670\n",
       "130  1991  125.801750\n",
       "131  1992  121.524200\n",
       "132  1993  106.748184"
      ]
     },
     "execution_count": 48,
     "metadata": {},
     "output_type": "execute_result"
    }
   ],
   "source": [
    "df2.head(5)"
   ]
  },
  {
   "cell_type": "code",
   "execution_count": 49,
   "id": "8a29d856-3ae6-42bf-b9e8-eb5053ca7ade",
   "metadata": {},
   "outputs": [],
   "source": [
    "df2 =  df2.iloc[::-1] #this helps reverse the rows in the columns"
   ]
  },
  {
   "cell_type": "code",
   "execution_count": 50,
   "id": "81995429-d49c-4540-8e5a-7728d1c25e85",
   "metadata": {},
   "outputs": [
    {
     "data": {
      "text/html": [
       "<div>\n",
       "<style scoped>\n",
       "    .dataframe tbody tr th:only-of-type {\n",
       "        vertical-align: middle;\n",
       "    }\n",
       "\n",
       "    .dataframe tbody tr th {\n",
       "        vertical-align: top;\n",
       "    }\n",
       "\n",
       "    .dataframe thead th {\n",
       "        text-align: right;\n",
       "    }\n",
       "</style>\n",
       "<table border=\"1\" class=\"dataframe\">\n",
       "  <thead>\n",
       "    <tr style=\"text-align: right;\">\n",
       "      <th></th>\n",
       "      <th>Year</th>\n",
       "      <th>Support_Env</th>\n",
       "      <th>Oppose_Env</th>\n",
       "    </tr>\n",
       "  </thead>\n",
       "  <tbody>\n",
       "    <tr>\n",
       "      <th>0</th>\n",
       "      <td>2023</td>\n",
       "      <td>61</td>\n",
       "      <td>39</td>\n",
       "    </tr>\n",
       "    <tr>\n",
       "      <th>1</th>\n",
       "      <td>2022</td>\n",
       "      <td>65</td>\n",
       "      <td>35</td>\n",
       "    </tr>\n",
       "    <tr>\n",
       "      <th>2</th>\n",
       "      <td>2021</td>\n",
       "      <td>65</td>\n",
       "      <td>35</td>\n",
       "    </tr>\n",
       "    <tr>\n",
       "      <th>3</th>\n",
       "      <td>2020</td>\n",
       "      <td>65</td>\n",
       "      <td>34</td>\n",
       "    </tr>\n",
       "    <tr>\n",
       "      <th>4</th>\n",
       "      <td>2019</td>\n",
       "      <td>65</td>\n",
       "      <td>35</td>\n",
       "    </tr>\n",
       "  </tbody>\n",
       "</table>\n",
       "</div>"
      ],
      "text/plain": [
       "    Year  Support_Env  Oppose_Env\n",
       "0  2023            61          39\n",
       "1  2022            65          35\n",
       "2  2021            65          35\n",
       "3  2020            65          34\n",
       "4  2019            65          35"
      ]
     },
     "execution_count": 50,
     "metadata": {},
     "output_type": "execute_result"
    }
   ],
   "source": [
    "df.head(5)"
   ]
  },
  {
   "cell_type": "code",
   "execution_count": 51,
   "id": "f6403a35-5ea8-4e88-928d-e6cf549317b8",
   "metadata": {},
   "outputs": [
    {
     "data": {
      "text/html": [
       "<div>\n",
       "<style scoped>\n",
       "    .dataframe tbody tr th:only-of-type {\n",
       "        vertical-align: middle;\n",
       "    }\n",
       "\n",
       "    .dataframe tbody tr th {\n",
       "        vertical-align: top;\n",
       "    }\n",
       "\n",
       "    .dataframe thead th {\n",
       "        text-align: right;\n",
       "    }\n",
       "</style>\n",
       "<table border=\"1\" class=\"dataframe\">\n",
       "  <thead>\n",
       "    <tr style=\"text-align: right;\">\n",
       "      <th></th>\n",
       "      <th>Year</th>\n",
       "      <th>Price</th>\n",
       "    </tr>\n",
       "  </thead>\n",
       "  <tbody>\n",
       "    <tr>\n",
       "      <th>161</th>\n",
       "      <td>2022</td>\n",
       "      <td>637.28253</td>\n",
       "    </tr>\n",
       "    <tr>\n",
       "      <th>160</th>\n",
       "      <td>2021</td>\n",
       "      <td>446.02164</td>\n",
       "    </tr>\n",
       "    <tr>\n",
       "      <th>159</th>\n",
       "      <td>2020</td>\n",
       "      <td>263.15482</td>\n",
       "    </tr>\n",
       "    <tr>\n",
       "      <th>158</th>\n",
       "      <td>2019</td>\n",
       "      <td>403.87164</td>\n",
       "    </tr>\n",
       "    <tr>\n",
       "      <th>157</th>\n",
       "      <td>2018</td>\n",
       "      <td>448.52600</td>\n",
       "    </tr>\n",
       "  </tbody>\n",
       "</table>\n",
       "</div>"
      ],
      "text/plain": [
       "     Year      Price\n",
       "161  2022  637.28253\n",
       "160  2021  446.02164\n",
       "159  2020  263.15482\n",
       "158  2019  403.87164\n",
       "157  2018  448.52600"
      ]
     },
     "execution_count": 51,
     "metadata": {},
     "output_type": "execute_result"
    }
   ],
   "source": [
    "df2.head(5)"
   ]
  },
  {
   "cell_type": "markdown",
   "id": "a79f5b4e-9680-489f-a9cb-315948779b51",
   "metadata": {},
   "source": [
    "## Data Analysis ##"
   ]
  },
  {
   "cell_type": "code",
   "execution_count": 308,
   "id": "aa56cd34-567f-4cb2-a4e5-2298e3e2bb73",
   "metadata": {},
   "outputs": [
    {
     "data": {
      "text/html": [
       "<div>\n",
       "<style scoped>\n",
       "    .dataframe tbody tr th:only-of-type {\n",
       "        vertical-align: middle;\n",
       "    }\n",
       "\n",
       "    .dataframe tbody tr th {\n",
       "        vertical-align: top;\n",
       "    }\n",
       "\n",
       "    .dataframe thead th {\n",
       "        text-align: right;\n",
       "    }\n",
       "</style>\n",
       "<table border=\"1\" class=\"dataframe\">\n",
       "  <thead>\n",
       "    <tr style=\"text-align: right;\">\n",
       "      <th></th>\n",
       "      <th>Year</th>\n",
       "      <th>Price</th>\n",
       "    </tr>\n",
       "  </thead>\n",
       "  <tbody>\n",
       "    <tr>\n",
       "      <th>161</th>\n",
       "      <td>2022</td>\n",
       "      <td>637.28253</td>\n",
       "    </tr>\n",
       "    <tr>\n",
       "      <th>160</th>\n",
       "      <td>2021</td>\n",
       "      <td>446.02164</td>\n",
       "    </tr>\n",
       "    <tr>\n",
       "      <th>159</th>\n",
       "      <td>2020</td>\n",
       "      <td>263.15482</td>\n",
       "    </tr>\n",
       "    <tr>\n",
       "      <th>158</th>\n",
       "      <td>2019</td>\n",
       "      <td>403.87164</td>\n",
       "    </tr>\n",
       "    <tr>\n",
       "      <th>157</th>\n",
       "      <td>2018</td>\n",
       "      <td>448.52600</td>\n",
       "    </tr>\n",
       "  </tbody>\n",
       "</table>\n",
       "</div>"
      ],
      "text/plain": [
       "     Year      Price\n",
       "161  2022  637.28253\n",
       "160  2021  446.02164\n",
       "159  2020  263.15482\n",
       "158  2019  403.87164\n",
       "157  2018  448.52600"
      ]
     },
     "execution_count": 308,
     "metadata": {},
     "output_type": "execute_result"
    }
   ],
   "source": [
    "df.head(5)\n",
    "df2.head(5)"
   ]
  },
  {
   "cell_type": "code",
   "execution_count": 312,
   "id": "539d066f-f300-4283-bb30-4d490c09c10d",
   "metadata": {},
   "outputs": [
    {
     "name": "stdout",
     "output_type": "stream",
     "text": [
      "Requirement already satisfied: matplotlib in /Library/Frameworks/Python.framework/Versions/3.10/lib/python3.10/site-packages (3.8.0)\n",
      "Collecting matplotlib\n",
      "  Obtaining dependency information for matplotlib from https://files.pythonhosted.org/packages/57/44/007b592809f50883c910db9ec4b81b16dfa0136407250fb581824daabf03/matplotlib-3.8.2-cp310-cp310-macosx_11_0_arm64.whl.metadata\n",
      "  Downloading matplotlib-3.8.2-cp310-cp310-macosx_11_0_arm64.whl.metadata (5.8 kB)\n",
      "Requirement already satisfied: contourpy>=1.0.1 in /Library/Frameworks/Python.framework/Versions/3.10/lib/python3.10/site-packages (from matplotlib) (1.1.1)\n",
      "Requirement already satisfied: cycler>=0.10 in /Library/Frameworks/Python.framework/Versions/3.10/lib/python3.10/site-packages (from matplotlib) (0.12.0)\n",
      "Requirement already satisfied: fonttools>=4.22.0 in /Library/Frameworks/Python.framework/Versions/3.10/lib/python3.10/site-packages (from matplotlib) (4.43.0)\n",
      "Requirement already satisfied: kiwisolver>=1.3.1 in /Library/Frameworks/Python.framework/Versions/3.10/lib/python3.10/site-packages (from matplotlib) (1.4.5)\n",
      "Requirement already satisfied: numpy<2,>=1.21 in /Library/Frameworks/Python.framework/Versions/3.10/lib/python3.10/site-packages (from matplotlib) (1.26.0)\n",
      "Requirement already satisfied: packaging>=20.0 in /Library/Frameworks/Python.framework/Versions/3.10/lib/python3.10/site-packages (from matplotlib) (23.1)\n",
      "Requirement already satisfied: pillow>=8 in /Library/Frameworks/Python.framework/Versions/3.10/lib/python3.10/site-packages (from matplotlib) (10.0.1)\n",
      "Requirement already satisfied: pyparsing>=2.3.1 in /Library/Frameworks/Python.framework/Versions/3.10/lib/python3.10/site-packages (from matplotlib) (3.1.1)\n",
      "Requirement already satisfied: python-dateutil>=2.7 in /Library/Frameworks/Python.framework/Versions/3.10/lib/python3.10/site-packages (from matplotlib) (2.8.2)\n",
      "Requirement already satisfied: six>=1.5 in /Library/Frameworks/Python.framework/Versions/3.10/lib/python3.10/site-packages (from python-dateutil>=2.7->matplotlib) (1.16.0)\n",
      "Downloading matplotlib-3.8.2-cp310-cp310-macosx_11_0_arm64.whl (7.5 MB)\n",
      "\u001b[2K   \u001b[90m━━━━━━━━━━━━━━━━━━━━━━━━━━━━━━━━━━━━━━━━\u001b[0m \u001b[32m7.5/7.5 MB\u001b[0m \u001b[31m24.5 MB/s\u001b[0m eta \u001b[36m0:00:00\u001b[0m00:01\u001b[0m00:01\u001b[0m\n",
      "\u001b[?25hInstalling collected packages: matplotlib\n",
      "  Attempting uninstall: matplotlib\n",
      "    Found existing installation: matplotlib 3.8.0\n",
      "    Uninstalling matplotlib-3.8.0:\n",
      "      Successfully uninstalled matplotlib-3.8.0\n",
      "Successfully installed matplotlib-3.8.2\n",
      "\n",
      "\u001b[1m[\u001b[0m\u001b[34;49mnotice\u001b[0m\u001b[1;39;49m]\u001b[0m\u001b[39;49m A new release of pip is available: \u001b[0m\u001b[31;49m23.2.1\u001b[0m\u001b[39;49m -> \u001b[0m\u001b[32;49m23.3.1\u001b[0m\n",
      "\u001b[1m[\u001b[0m\u001b[34;49mnotice\u001b[0m\u001b[1;39;49m]\u001b[0m\u001b[39;49m To update, run: \u001b[0m\u001b[32;49mpip install --upgrade pip\u001b[0m\n",
      "Note: you may need to restart the kernel to use updated packages.\n"
     ]
    }
   ],
   "source": [
    "pip install --upgrade matplotlib"
   ]
  },
  {
   "cell_type": "code",
   "execution_count": 5,
   "id": "0fbb994a-0a13-43b8-a673-aaee31f9deae",
   "metadata": {},
   "outputs": [
    {
     "name": "stdout",
     "output_type": "stream",
     "text": [
      "Requirement already satisfied: pip in /Library/Frameworks/Python.framework/Versions/3.10/lib/python3.10/site-packages (23.2.1)\n",
      "Collecting pip\n",
      "  Obtaining dependency information for pip from https://files.pythonhosted.org/packages/47/6a/453160888fab7c6a432a6e25f8afe6256d0d9f2cbd25971021da6491d899/pip-23.3.1-py3-none-any.whl.metadata\n",
      "  Downloading pip-23.3.1-py3-none-any.whl.metadata (3.5 kB)\n",
      "Downloading pip-23.3.1-py3-none-any.whl (2.1 MB)\n",
      "\u001b[2K   \u001b[90m━━━━━━━━━━━━━━━━━━━━━━━━━━━━━━━━━━━━━━━━\u001b[0m \u001b[32m2.1/2.1 MB\u001b[0m \u001b[31m16.5 MB/s\u001b[0m eta \u001b[36m0:00:00\u001b[0m00:01\u001b[0m00:01\u001b[0m\n",
      "\u001b[?25hInstalling collected packages: pip\n",
      "  Attempting uninstall: pip\n",
      "    Found existing installation: pip 23.2.1\n",
      "    Uninstalling pip-23.2.1:\n",
      "      Successfully uninstalled pip-23.2.1\n",
      "Successfully installed pip-23.3.1\n",
      "Note: you may need to restart the kernel to use updated packages.\n"
     ]
    }
   ],
   "source": [
    "pip install --upgrade pip"
   ]
  },
  {
   "cell_type": "code",
   "execution_count": 56,
   "id": "5465f154-c0fe-4733-a32e-84e7f4552e77",
   "metadata": {},
   "outputs": [
    {
     "ename": "AttributeError",
     "evalue": "module 'matplotlib' has no attribute 'plot'",
     "output_type": "error",
     "traceback": [
      "\u001b[0;31m---------------------------------------------------------------------------\u001b[0m",
      "\u001b[0;31mAttributeError\u001b[0m                            Traceback (most recent call last)",
      "Cell \u001b[0;32mIn[56], line 1\u001b[0m\n\u001b[0;32m----> 1\u001b[0m \u001b[43mplt\u001b[49m\u001b[38;5;241;43m.\u001b[39;49m\u001b[43mplot\u001b[49m(x, y1, label\u001b[38;5;241m=\u001b[39m\u001b[38;5;124m'\u001b[39m\u001b[38;5;124mdf\u001b[39m\u001b[38;5;124m'\u001b[39m, color\u001b[38;5;241m=\u001b[39m\u001b[38;5;124m'\u001b[39m\u001b[38;5;124mblue\u001b[39m\u001b[38;5;124m'\u001b[39m, linestyle\u001b[38;5;241m=\u001b[39m\u001b[38;5;124m'\u001b[39m\u001b[38;5;124m-\u001b[39m\u001b[38;5;124m'\u001b[39m)\n",
      "File \u001b[0;32m/Library/Frameworks/Python.framework/Versions/3.10/lib/python3.10/site-packages/matplotlib/_api/__init__.py:217\u001b[0m, in \u001b[0;36mcaching_module_getattr.<locals>.__getattr__\u001b[0;34m(name)\u001b[0m\n\u001b[1;32m    215\u001b[0m \u001b[38;5;28;01mif\u001b[39;00m name \u001b[38;5;129;01min\u001b[39;00m props:\n\u001b[1;32m    216\u001b[0m     \u001b[38;5;28;01mreturn\u001b[39;00m props[name]\u001b[38;5;241m.\u001b[39m\u001b[38;5;21m__get__\u001b[39m(instance)\n\u001b[0;32m--> 217\u001b[0m \u001b[38;5;28;01mraise\u001b[39;00m \u001b[38;5;167;01mAttributeError\u001b[39;00m(\n\u001b[1;32m    218\u001b[0m     \u001b[38;5;124mf\u001b[39m\u001b[38;5;124m\"\u001b[39m\u001b[38;5;124mmodule \u001b[39m\u001b[38;5;132;01m{\u001b[39;00m\u001b[38;5;28mcls\u001b[39m\u001b[38;5;241m.\u001b[39m\u001b[38;5;18m__module__\u001b[39m\u001b[38;5;132;01m!r}\u001b[39;00m\u001b[38;5;124m has no attribute \u001b[39m\u001b[38;5;132;01m{\u001b[39;00mname\u001b[38;5;132;01m!r}\u001b[39;00m\u001b[38;5;124m\"\u001b[39m)\n",
      "\u001b[0;31mAttributeError\u001b[0m: module 'matplotlib' has no attribute 'plot'"
     ]
    }
   ],
   "source": [
    "plt.plot(x, y1, label='df', color='blue', linestyle='-')"
   ]
  }
 ],
 "metadata": {
  "kernelspec": {
   "display_name": "Python 3 (ipykernel)",
   "language": "python",
   "name": "python3"
  },
  "language_info": {
   "codemirror_mode": {
    "name": "ipython",
    "version": 3
   },
   "file_extension": ".py",
   "mimetype": "text/x-python",
   "name": "python",
   "nbconvert_exporter": "python",
   "pygments_lexer": "ipython3",
   "version": "3.10.5"
  }
 },
 "nbformat": 4,
 "nbformat_minor": 5
}
