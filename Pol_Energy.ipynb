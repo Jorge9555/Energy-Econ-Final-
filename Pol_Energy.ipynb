{
 "cells": [
  {
   "cell_type": "markdown",
   "id": "e241a277-cf96-458c-bce5-3c1706412b02",
   "metadata": {},
   "source": [
    "# Politics of Energy Transition Final Project #"
   ]
  },
  {
   "cell_type": "markdown",
   "id": "f3337d71-d89a-47db-9689-f6cd05fd8133",
   "metadata": {},
   "source": [
    "## Introduction ##\n",
    "Environmental support is important in the context of American politics, it is the bedrock of future environemtal reform. What I am trying to do, is find an primary variable and see how well they correlate with the support Americans have for the environment. \n",
    "Data sets:\n",
    "I am going to use a few datasets today. \n",
    "1. To gague how well Americans support the environment over the years, I will use a Gallup poll stemming from 1989 until 2023. The link can be found here: https://news.gallup.com/poll/1615/environment.aspx\n",
    "2. I will use the Fred dataset to see how crude oil prics have changed over the years. I have matched the data to come from 1989 to 2023. The link can be found here: https://fred.stlouisfed.org/series/DCOILWTICO\n",
    "3. For my second hypothesis I would like to track total Oil lobbying over the years of 1989 until 2023, to find this I used an open secrets file found here: https://www.opensecrets.org/federal-lobbying/industries/summary?cycle=2007&id=E01\n",
    "4. For my third hypothesis, I tested the rate of year-over-year change in gasoline prices from 1989 until 2023. The link is found here: https://www.opensecrets.org/federal-lobbying/industries/summary?cycle=2007&id=E01"
   ]
  },
  {
   "cell_type": "markdown",
   "id": "eed8c4ce-9af2-46a9-8396-740c970441e8",
   "metadata": {
    "jp-MarkdownHeadingCollapsed": true
   },
   "source": [
    "## Hypothesis 1: ##\n",
    "Crude oil price: The more expensive oil is, the less Americans will worry about the environment. We can see that the volitility of certain resources have a connection to public opinion. This is seen in the public opinion readings like Anthony Leiserowitz's work, \"Climate Change in the American Mind: Beliefs & Attitudes, Spring 2023.\""
   ]
  },
  {
   "cell_type": "code",
   "execution_count": 1,
   "id": "46bfc520-2cf5-4918-af21-4b11601a0ac7",
   "metadata": {},
   "outputs": [],
   "source": [
    "#i am importing the relevant libraries\n",
    "import pandas as pd\n",
    "import numpy as np\n",
    "import seaborn as sns\n",
    "%matplotlib inline\n",
    "import matplotlib.pyplot  as plt\n",
    "plt.style.use(\"ggplot\")\n",
    "import scipy.stats\n",
    "from scipy.stats import linregress"
   ]
  },
  {
   "cell_type": "markdown",
   "id": "f33e0726-17d5-49d7-918a-6da2e73151e0",
   "metadata": {},
   "source": [
    "### Cleaning Data Climate\\Oil Price ###"
   ]
  },
  {
   "cell_type": "markdown",
   "id": "1d7737c7-18e2-4fd0-a249-f56cda417627",
   "metadata": {},
   "source": [
    "### Climate ####\n",
    "I will begin by cleaning the data and making the columns and rows easy to manipulate in the future"
   ]
  },
  {
   "cell_type": "code",
   "execution_count": 2,
   "id": "11e93dce-27d9-4ba7-8efa-ee990f6bf0f0",
   "metadata": {},
   "outputs": [],
   "source": [
    "df = pd.read_csv(\"Climate_1989-2023.csv\")"
   ]
  },
  {
   "cell_type": "code",
   "execution_count": 3,
   "id": "a32e73cb-1ee6-4d9f-b3c7-ba5606517f44",
   "metadata": {},
   "outputs": [],
   "source": [
    "df = df.rename(columns={'Global warming or climate change': 'Year'})"
   ]
  },
  {
   "cell_type": "code",
   "execution_count": 4,
   "id": "7a6152a0-e0f0-4289-81b8-e6f4c3456134",
   "metadata": {},
   "outputs": [
    {
     "data": {
      "text/plain": [
       "Index(['Year', 'Great Deal', 'Fair Amount', 'Only a little', 'Not at all',\n",
       "       'No opinion', 'Totals'],\n",
       "      dtype='object')"
      ]
     },
     "execution_count": 4,
     "metadata": {},
     "output_type": "execute_result"
    }
   ],
   "source": [
    "df.columns"
   ]
  },
  {
   "cell_type": "code",
   "execution_count": 5,
   "id": "136daf17-f769-4b75-af2d-5076d39735d1",
   "metadata": {},
   "outputs": [],
   "source": [
    "df = df[['Year', 'Great Deal', 'Fair Amount',\n",
    "       'Only a little', 'Not at all', 'No opinion']]"
   ]
  },
  {
   "cell_type": "code",
   "execution_count": 6,
   "id": "133db785-1757-42aa-b528-ce563e98e270",
   "metadata": {},
   "outputs": [],
   "source": [
    "df.loc[:, 'Year'] = df['Year'].str[:-6]"
   ]
  },
  {
   "cell_type": "code",
   "execution_count": 7,
   "id": "852d9406-fc61-4a2c-8714-7d4aedfa0113",
   "metadata": {},
   "outputs": [],
   "source": [
    "df[\"Year\"] = df['Year'].str.replace(\"M\",\" \")\n",
    "df[\"Year\"] = df['Year'].str.replace(\"M\",\" \")\n",
    "df[\"Year\"] = df['Year'].str.replace(\"Apr\",\" \")\n",
    "df[\"Year\"] = df['Year'].str.replace(\"Oct\",\" \")\n",
    "df['Year'] = df['Year'].str.replace(\"Mar\",\" \")\n",
    "df['Year'] = df['Year'].str.replace(\"A\",\" \")\n",
    "df['Year'] = df['Year'].str.replace(\"r\",\" \")\n",
    "df['Year'] = df['Year'].str.replace(\"a\",\" \")"
   ]
  },
  {
   "cell_type": "code",
   "execution_count": 8,
   "id": "5ece3856-31a5-4a16-a7c9-db0671314bd4",
   "metadata": {},
   "outputs": [],
   "source": [
    "df['Support_Env'] = df['Great Deal'] + df['Fair Amount']"
   ]
  },
  {
   "cell_type": "code",
   "execution_count": 9,
   "id": "6e902b8d-8017-49c0-bd3f-b097de2d0a7e",
   "metadata": {},
   "outputs": [],
   "source": [
    "df['Oppose_Env'] = df['Only a little'] + df['Not at all']"
   ]
  },
  {
   "cell_type": "code",
   "execution_count": 10,
   "id": "ce54f996-ebd2-46c4-89f9-d869919e4842",
   "metadata": {},
   "outputs": [
    {
     "data": {
      "text/plain": [
       "dtype('O')"
      ]
     },
     "execution_count": 10,
     "metadata": {},
     "output_type": "execute_result"
    }
   ],
   "source": [
    "df = df[['Year','Support_Env', 'Oppose_Env']]\n",
    "df[\"Year\"].dtype"
   ]
  },
  {
   "cell_type": "markdown",
   "id": "f1710382-35fd-494f-a8f7-67bbce4ed6d4",
   "metadata": {},
   "source": [
    "### Oil Price ###"
   ]
  },
  {
   "cell_type": "code",
   "execution_count": 11,
   "id": "002f4ad0-040c-4fac-9dd5-bba6ae200faa",
   "metadata": {},
   "outputs": [],
   "source": [
    "df2 = pd.read_csv(\"crude-oil-prices.csv\")"
   ]
  },
  {
   "cell_type": "code",
   "execution_count": 12,
   "id": "f19b904a-cb42-4375-b1b5-2163d27d3733",
   "metadata": {},
   "outputs": [],
   "source": [
    "df[\"Year\"] = df[\"Year\"].astype(\"int64\")"
   ]
  },
  {
   "cell_type": "code",
   "execution_count": 13,
   "id": "8a626ce3-ad4d-4bcc-ab94-7b4f6f2ed086",
   "metadata": {},
   "outputs": [],
   "source": [
    "df2 = df2.rename(columns={'Oil price - Crude prices since 1861 (current US$)': 'Price'})"
   ]
  },
  {
   "cell_type": "code",
   "execution_count": 14,
   "id": "ade441aa-c6ac-48e2-9494-6ec0cbe309b8",
   "metadata": {},
   "outputs": [
    {
     "data": {
      "text/plain": [
       "Index(['Year', 'Support_Env', 'Oppose_Env'], dtype='object')"
      ]
     },
     "execution_count": 14,
     "metadata": {},
     "output_type": "execute_result"
    }
   ],
   "source": [
    "df.columns"
   ]
  },
  {
   "cell_type": "code",
   "execution_count": 15,
   "id": "4a142761-ca7f-4de6-b063-f158895d2156",
   "metadata": {},
   "outputs": [],
   "source": [
    "df2 = df2[[\"Year\", \"Price\"]]"
   ]
  },
  {
   "cell_type": "code",
   "execution_count": 16,
   "id": "72506c53-13c2-4ba5-aeeb-b290b5c61312",
   "metadata": {},
   "outputs": [],
   "source": [
    "df2 = df2[-34:]"
   ]
  },
  {
   "cell_type": "code",
   "execution_count": 20,
   "id": "2ffb33d8-cdb2-40bf-80f4-f4393881d7b6",
   "metadata": {},
   "outputs": [
    {
     "data": {
      "text/html": [
       "<div>\n",
       "<style scoped>\n",
       "    .dataframe tbody tr th:only-of-type {\n",
       "        vertical-align: middle;\n",
       "    }\n",
       "\n",
       "    .dataframe tbody tr th {\n",
       "        vertical-align: top;\n",
       "    }\n",
       "\n",
       "    .dataframe thead th {\n",
       "        text-align: right;\n",
       "    }\n",
       "</style>\n",
       "<table border=\"1\" class=\"dataframe\">\n",
       "  <thead>\n",
       "    <tr style=\"text-align: right;\">\n",
       "      <th></th>\n",
       "      <th>Year</th>\n",
       "      <th>Support_Env</th>\n",
       "      <th>Oppose_Env</th>\n",
       "    </tr>\n",
       "  </thead>\n",
       "  <tbody>\n",
       "    <tr>\n",
       "      <th>28</th>\n",
       "      <td>1989</td>\n",
       "      <td>63</td>\n",
       "      <td>30</td>\n",
       "    </tr>\n",
       "    <tr>\n",
       "      <th>27</th>\n",
       "      <td>1990</td>\n",
       "      <td>57</td>\n",
       "      <td>36</td>\n",
       "    </tr>\n",
       "    <tr>\n",
       "      <th>26</th>\n",
       "      <td>1991</td>\n",
       "      <td>62</td>\n",
       "      <td>34</td>\n",
       "    </tr>\n",
       "    <tr>\n",
       "      <th>25</th>\n",
       "      <td>1997</td>\n",
       "      <td>50</td>\n",
       "      <td>46</td>\n",
       "    </tr>\n",
       "    <tr>\n",
       "      <th>24</th>\n",
       "      <td>1999</td>\n",
       "      <td>59</td>\n",
       "      <td>39</td>\n",
       "    </tr>\n",
       "  </tbody>\n",
       "</table>\n",
       "</div>"
      ],
      "text/plain": [
       "    Year  Support_Env  Oppose_Env\n",
       "28  1989           63          30\n",
       "27  1990           57          36\n",
       "26  1991           62          34\n",
       "25  1997           50          46\n",
       "24  1999           59          39"
      ]
     },
     "execution_count": 20,
     "metadata": {},
     "output_type": "execute_result"
    }
   ],
   "source": [
    "df.head(5)"
   ]
  },
  {
   "cell_type": "code",
   "execution_count": 19,
   "id": "8a29d856-3ae6-42bf-b9e8-eb5053ca7ade",
   "metadata": {},
   "outputs": [],
   "source": [
    "df =  df.iloc[::-1] "
   ]
  },
  {
   "cell_type": "markdown",
   "id": "a79f5b4e-9680-489f-a9cb-315948779b51",
   "metadata": {},
   "source": [
    "### Data Analysis ###\n",
    "Now that the data is workable I will begin analysing it, ill begin with a line graph to see how the data visualies, then I will make a scatterplot to see the realtionship between both variables."
   ]
  },
  {
   "cell_type": "code",
   "execution_count": 398,
   "id": "effdb109-0b66-4702-acc6-87bbd2b9b0f9",
   "metadata": {},
   "outputs": [
    {
     "data": {
      "image/png": "[encoded data removed]",
      "text/plain": [
       "<Figure size 640x480 with 1 Axes>"
      ]
     },
     "metadata": {},
     "output_type": "display_data"
    }
   ],
   "source": [
    "# Here is how the crude oil prices over the years look\n",
    "plt.plot( df2[\"Year\"], df2[\"Price\"], color='red',label='Crude Oil Price')\n",
    "plt.legend(loc='upper right', fontsize='10')\n",
    "plt.show()"
   ]
  },
  {
   "cell_type": "code",
   "execution_count": 139,
   "id": "348ca83d-9550-4c3c-a7f2-f2212b0276db",
   "metadata": {},
   "outputs": [
    {
     "data": {
      "text/plain": [
       "<function matplotlib.pyplot.show(close=None, block=None)>"
      ]
     },
     "execution_count": 139,
     "metadata": {},
     "output_type": "execute_result"
    },
    {
     "data": {
      "image/png": "[encoded data removed]",
      "text/plain": [
       "<Figure size 640x480 with 1 Axes>"
      ]
     },
     "metadata": {},
     "output_type": "display_data"
    }
   ],
   "source": [
    "# This is how support for the envirionment has looked over the years.\n",
    "plt.plot( df[\"Year\"], df[\"Support_Env\"], color='blue',label='Support of Environment')\n",
    "plt.legend(loc='upper right', fontsize='10')\n",
    "plt.show"
   ]
  },
  {
   "cell_type": "code",
   "execution_count": 25,
   "id": "9cc50cf8-97ee-49a8-9756-ed6bbe5084b5",
   "metadata": {},
   "outputs": [
    {
     "name": "stdout",
     "output_type": "stream",
     "text": [
      "float64\n",
      "float64\n"
     ]
    }
   ],
   "source": [
    "df['Support_Env'] = df['Support_Env'].astype(float)\n",
    "print(df[\"Support_Env\"].dtype)\n",
    "print(df2[\"Price\"].dtype)"
   ]
  },
  {
   "cell_type": "code",
   "execution_count": 399,
   "id": "e2646512-4d65-4300-8b45-646d65c85e4a",
   "metadata": {},
   "outputs": [
    {
     "data": {
      "text/html": [
       "<div>\n",
       "<style scoped>\n",
       "    .dataframe tbody tr th:only-of-type {\n",
       "        vertical-align: middle;\n",
       "    }\n",
       "\n",
       "    .dataframe tbody tr th {\n",
       "        vertical-align: top;\n",
       "    }\n",
       "\n",
       "    .dataframe thead th {\n",
       "        text-align: right;\n",
       "    }\n",
       "</style>\n",
       "<table border=\"1\" class=\"dataframe\">\n",
       "  <thead>\n",
       "    <tr style=\"text-align: right;\">\n",
       "      <th></th>\n",
       "      <th>Year</th>\n",
       "      <th>Support_Env</th>\n",
       "      <th>Oppose_Env</th>\n",
       "    </tr>\n",
       "  </thead>\n",
       "  <tbody>\n",
       "    <tr>\n",
       "      <th>28</th>\n",
       "      <td>1989</td>\n",
       "      <td>63.0</td>\n",
       "      <td>30</td>\n",
       "    </tr>\n",
       "  </tbody>\n",
       "</table>\n",
       "</div>"
      ],
      "text/plain": [
       "    Year  Support_Env  Oppose_Env\n",
       "28  1989         63.0          30"
      ]
     },
     "execution_count": 399,
     "metadata": {},
     "output_type": "execute_result"
    }
   ],
   "source": [
    "df.head(1)"
   ]
  },
  {
   "cell_type": "code",
   "execution_count": 135,
   "id": "5593da5c-75e4-4444-b79f-81433ec62996",
   "metadata": {},
   "outputs": [],
   "source": [
    "#I am merging both variables into one working file so I can create a single scatterplot\n",
    "merge_df = pd.merge(df, df2, on='Year')"
   ]
  },
  {
   "cell_type": "code",
   "execution_count": 162,
   "id": "80f7c4ea-35bf-4897-9eb4-3f7a8080ba4f",
   "metadata": {},
   "outputs": [],
   "source": [
    "slope, intercept, r_value, p_value, std_err = linregress(merge_df['Support_Env'], merge_df['Price'])\n",
    "trendline = slope * merge_df['Support_Env'] + intercept"
   ]
  },
  {
   "cell_type": "code",
   "execution_count": 167,
   "id": "7bdebf48-d5c5-43ca-ae76-b8b4f0534880",
   "metadata": {},
   "outputs": [
    {
     "data": {
      "image/png": "[encoded data removed]",
      "text/plain": [
       "<Figure size 640x480 with 1 Axes>"
      ]
     },
     "metadata": {},
     "output_type": "display_data"
    }
   ],
   "source": [
    "scatter = merge_df.plot.scatter(x ='Price', y = 'Support_Env', title='Oil Price on Support of Environment')\n",
    "plt.text(merge_df['Price'].min(), merge_df['Support_Env'].max(), f'R-squared: {r_value**2:.2f}', fontsize=10, color='blue', ha = 'left')\n",
    "plt.show()"
   ]
  },
  {
   "cell_type": "code",
   "execution_count": 132,
   "id": "1a78d22f-1a41-4c61-93be-9ecc48f9beff",
   "metadata": {},
   "outputs": [
    {
     "name": "stdout",
     "output_type": "stream",
     "text": [
      "y = -0.00x + 62.00\n"
     ]
    }
   ],
   "source": [
    "#X values is the price variable in the merge_df\n",
    "# while the Y values is the share of support in the merge_df\n",
    "slope, intercept, r_value, p_value, std_err = linregress(merge_df['Price'], merge_df['Support_Env'])\n",
    "equation = f\"y = {slope:.2f}x + {intercept:.2f}\"\n",
    "print(equation)"
   ]
  },
  {
   "cell_type": "code",
   "execution_count": 134,
   "id": "c5255f4b-0596-4cc9-a552-a6703ebe4fc7",
   "metadata": {},
   "outputs": [
    {
     "name": "stdout",
     "output_type": "stream",
     "text": [
      "0.43811427737645625\n",
      "-0.15263039817824592\n",
      "-0.004249812204802418\n"
     ]
    }
   ],
   "source": [
    "print(p_value)\n",
    "print(r_value)\n",
    "print(slope)"
   ]
  },
  {
   "cell_type": "markdown",
   "id": "facc532e-cf1d-4637-b76f-e7090c1270a5",
   "metadata": {},
   "source": [
    "### Linear Regression and Results ###\n"
   ]
  },
  {
   "cell_type": "markdown",
   "id": "46fcddb9-38f8-45bf-bf03-907e942abe74",
   "metadata": {},
   "source": [
    "The equation $$ y = -0.00x + 62.00 $$ is the relationship between both the oil price and support for environment variables. It suggests a weak relationship. This can be due to a variety of reasons, I suspect there is a better measure for energy prices thatn crude oil prices, and will try other avenues. The findings find a lack of evidence to support the claim that oil price will affect the support of enviornment in the United States. "
   ]
  },
  {
   "cell_type": "markdown",
   "id": "7fd5c624-c0e9-461a-95ad-edcb7a8d9766",
   "metadata": {
    "jp-MarkdownHeadingCollapsed": true
   },
   "source": [
    "## Hypothesis 2: ###\n",
    "Oil Lobbying Contributions: The more contributions towards oil lobbying firms give, the less the public advocates for enviornmental rights. We can go back to the fossil firms and lobbying week when we learned that lobbying can have an affect on the perception of American's view on environmental issues. "
   ]
  },
  {
   "cell_type": "markdown",
   "id": "aaa4a83b-3d11-4534-928e-37e9508af415",
   "metadata": {
    "jp-MarkdownHeadingCollapsed": true
   },
   "source": [
    "### Cleaning data ###\n",
    "I am going to open a new data set and look at the data provided"
   ]
  },
  {
   "cell_type": "code",
   "execution_count": 140,
   "id": "2cfb14c3-c9c3-410f-ac20-5d7278f12898",
   "metadata": {},
   "outputs": [],
   "source": [
    "df3 = pd.read_csv(\"OpenSecrets_Oil_Data.csv\")"
   ]
  },
  {
   "cell_type": "code",
   "execution_count": 400,
   "id": "9dcb6fa8-3a5d-432f-a340-06f665fb9f6b",
   "metadata": {},
   "outputs": [
    {
     "data": {
      "text/html": [
       "<div>\n",
       "<style scoped>\n",
       "    .dataframe tbody tr th:only-of-type {\n",
       "        vertical-align: middle;\n",
       "    }\n",
       "\n",
       "    .dataframe tbody tr th {\n",
       "        vertical-align: top;\n",
       "    }\n",
       "\n",
       "    .dataframe thead th {\n",
       "        text-align: right;\n",
       "    }\n",
       "</style>\n",
       "<table border=\"1\" class=\"dataframe\">\n",
       "  <thead>\n",
       "    <tr style=\"text-align: right;\">\n",
       "      <th></th>\n",
       "      <th>Year</th>\n",
       "      <th>Total</th>\n",
       "      <th>Clients</th>\n",
       "    </tr>\n",
       "  </thead>\n",
       "  <tbody>\n",
       "    <tr>\n",
       "      <th>0</th>\n",
       "      <td>2022</td>\n",
       "      <td>125581364.0</td>\n",
       "      <td>209</td>\n",
       "    </tr>\n",
       "    <tr>\n",
       "      <th>1</th>\n",
       "      <td>2021</td>\n",
       "      <td>120727396.0</td>\n",
       "      <td>209</td>\n",
       "    </tr>\n",
       "    <tr>\n",
       "      <th>2</th>\n",
       "      <td>2020</td>\n",
       "      <td>113179376.0</td>\n",
       "      <td>219</td>\n",
       "    </tr>\n",
       "  </tbody>\n",
       "</table>\n",
       "</div>"
      ],
      "text/plain": [
       "   Year        Total  Clients\n",
       "0  2022  125581364.0      209\n",
       "1  2021  120727396.0      209\n",
       "2  2020  113179376.0      219"
      ]
     },
     "execution_count": 400,
     "metadata": {},
     "output_type": "execute_result"
    }
   ],
   "source": [
    "df3.head(3)"
   ]
  },
  {
   "cell_type": "code",
   "execution_count": 151,
   "id": "ea03dc02-a0a6-4294-89ee-dc114034d86c",
   "metadata": {},
   "outputs": [],
   "source": [
    "df3[\"Total\"] = df3[\"Total\"].astype(\"float64\")"
   ]
  },
  {
   "cell_type": "markdown",
   "id": "2de482b2-4506-4488-a125-35523c486bec",
   "metadata": {},
   "source": [
    "### Analysis ###\n",
    "Because the dataet came in ready to use, I will begin with the visualization"
   ]
  },
  {
   "cell_type": "code",
   "execution_count": 153,
   "id": "793456b2-87fa-456f-8415-1796998df17f",
   "metadata": {},
   "outputs": [
    {
     "data": {
      "image/png": "[encoded data removed]",
      "text/plain": [
       "<Figure size 640x480 with 1 Axes>"
      ]
     },
     "metadata": {},
     "output_type": "display_data"
    }
   ],
   "source": [
    "#THis is the line graph of lobby effort in hundreds of millions and years\n",
    "plt.plot( df3[\"Year\"], df3[\"Total\"], color='green',label='Lobbying Total')\n",
    "plt.legend(loc='upper right', fontsize='10')\n",
    "plt.show()"
   ]
  },
  {
   "cell_type": "code",
   "execution_count": 154,
   "id": "c3680bf0-17de-487d-9c4b-bae883d8903c",
   "metadata": {},
   "outputs": [],
   "source": [
    "# I am once again going to merge the environmental support table with the lobbying table and get a scatterplot to view the realtionship\n",
    "Lob_merge = pd.merge(df, df3, on = \"Year\")"
   ]
  },
  {
   "cell_type": "code",
   "execution_count": 401,
   "id": "0bf1cef4-83b6-4e0e-8fa1-acfd4e01e582",
   "metadata": {},
   "outputs": [
    {
     "data": {
      "text/html": [
       "<div>\n",
       "<style scoped>\n",
       "    .dataframe tbody tr th:only-of-type {\n",
       "        vertical-align: middle;\n",
       "    }\n",
       "\n",
       "    .dataframe tbody tr th {\n",
       "        vertical-align: top;\n",
       "    }\n",
       "\n",
       "    .dataframe thead th {\n",
       "        text-align: right;\n",
       "    }\n",
       "</style>\n",
       "<table border=\"1\" class=\"dataframe\">\n",
       "  <thead>\n",
       "    <tr style=\"text-align: right;\">\n",
       "      <th></th>\n",
       "      <th>Year</th>\n",
       "      <th>Support_Env</th>\n",
       "      <th>Oppose_Env</th>\n",
       "      <th>Total</th>\n",
       "      <th>Clients</th>\n",
       "    </tr>\n",
       "  </thead>\n",
       "  <tbody>\n",
       "    <tr>\n",
       "      <th>0</th>\n",
       "      <td>1999</td>\n",
       "      <td>59.0</td>\n",
       "      <td>39</td>\n",
       "      <td>60209200.0</td>\n",
       "      <td>140</td>\n",
       "    </tr>\n",
       "    <tr>\n",
       "      <th>1</th>\n",
       "      <td>1999</td>\n",
       "      <td>68.0</td>\n",
       "      <td>30</td>\n",
       "      <td>60209200.0</td>\n",
       "      <td>140</td>\n",
       "    </tr>\n",
       "    <tr>\n",
       "      <th>2</th>\n",
       "      <td>2000</td>\n",
       "      <td>72.0</td>\n",
       "      <td>27</td>\n",
       "      <td>50753883.0</td>\n",
       "      <td>145</td>\n",
       "    </tr>\n",
       "    <tr>\n",
       "      <th>3</th>\n",
       "      <td>2001</td>\n",
       "      <td>63.0</td>\n",
       "      <td>35</td>\n",
       "      <td>52013571.0</td>\n",
       "      <td>142</td>\n",
       "    </tr>\n",
       "  </tbody>\n",
       "</table>\n",
       "</div>"
      ],
      "text/plain": [
       "   Year  Support_Env  Oppose_Env       Total  Clients\n",
       "0  1999         59.0          39  60209200.0      140\n",
       "1  1999         68.0          30  60209200.0      140\n",
       "2  2000         72.0          27  50753883.0      145\n",
       "3  2001         63.0          35  52013571.0      142"
      ]
     },
     "execution_count": 401,
     "metadata": {},
     "output_type": "execute_result"
    }
   ],
   "source": [
    "Lob_merge.head(4)"
   ]
  },
  {
   "cell_type": "code",
   "execution_count": 172,
   "id": "2d806bfb-8376-408a-8892-3d993550a768",
   "metadata": {},
   "outputs": [
    {
     "data": {
      "text/plain": [
       "Text(50753883.0, 72.0, 'R-squared: 0.06')"
      ]
     },
     "execution_count": 172,
     "metadata": {},
     "output_type": "execute_result"
    },
    {
     "data": {
      "image/png": "[encoded data removed]",
      "text/plain": [
       "<Figure size 640x480 with 1 Axes>"
      ]
     },
     "metadata": {},
     "output_type": "display_data"
    }
   ],
   "source": [
    "lob_scatter = Lob_merge.plot.scatter(x = 'Total', y = 'Support_Env' , title = \"Total Oil Lobby on Enviornmental Support\")\n",
    "plt.text(Lob_merge['Total'].min(), Lob_merge[\"Support_Env\"].max(), f'R-squared: {r_value**2:.2f}', fontsize = 10, color=\"black\", ha=\"left\")"
   ]
  },
  {
   "cell_type": "code",
   "execution_count": 173,
   "id": "79258eb6-8bf8-4faf-afec-0d10fbe1012b",
   "metadata": {},
   "outputs": [
    {
     "name": "stdout",
     "output_type": "stream",
     "text": [
      "y = -0.00x + 64.55\n"
     ]
    }
   ],
   "source": [
    "slope, intercept, r_value, p_value, std_err = linregress(Lob_merge['Total'], Lob_merge['Support_Env'])\n",
    "equation = f\"y = {slope:.2f}x + {intercept:.2f}\"\n",
    "print(equation)"
   ]
  },
  {
   "cell_type": "code",
   "execution_count": 174,
   "id": "e9883975-d5c0-470d-af5a-c87df03cbab5",
   "metadata": {},
   "outputs": [
    {
     "name": "stdout",
     "output_type": "stream",
     "text": [
      "-0.23776367686175343\n",
      "0.2632442766374476\n",
      "-3.365573230828911e-08\n"
     ]
    }
   ],
   "source": [
    "print(r_value)\n",
    "print(p_value)\n",
    "print(slope)"
   ]
  },
  {
   "cell_type": "markdown",
   "id": "5bbc790f-1212-4a22-82e3-edaef94715ea",
   "metadata": {},
   "source": [
    "### Linear Analysis and results ###\n",
    "There is once again a weak result when testing for oil lobbying total and support for the environement. This can be seen with the equation $$ y = -0.00x + 64.55$$ I believe there is a confounding variable, or a delayed response that my analysis was not able to capture effectiveley. I believe there also might be a cascading effect, where the money given to politicians is not used in immediate, and is held for later use. "
   ]
  },
  {
   "cell_type": "markdown",
   "id": "368d0b0e-369f-45c6-b619-0df116f03401",
   "metadata": {
    "jp-MarkdownHeadingCollapsed": true
   },
   "source": [
    "## Hypothesis 3: ##\n",
    "Gasoline Price: The more gasoline prices fluctuate year over year will negitavley affect how people view the environment. I think this can go back to the Public Opinion section and Leiserowitz's work. "
   ]
  },
  {
   "cell_type": "markdown",
   "id": "450da51c-6539-448a-8a03-bdbaf748e447",
   "metadata": {},
   "source": [
    "### Cleaning ###\n",
    "I will begin with importing the data and cleaning it"
   ]
  },
  {
   "cell_type": "code",
   "execution_count": 280,
   "id": "15b9b367-1e95-4a06-8d8d-016f5bba6d04",
   "metadata": {},
   "outputs": [],
   "source": [
    "gdf = pd.read_csv(\"Gas_Prices.csv\")"
   ]
  },
  {
   "cell_type": "code",
   "execution_count": 281,
   "id": "419b7d65-5cf6-4e6b-aadc-1ced329891fb",
   "metadata": {},
   "outputs": [],
   "source": [
    "gdf =  gdf.iloc[::-1] "
   ]
  },
  {
   "cell_type": "code",
   "execution_count": 282,
   "id": "b2b201b7-2414-43be-bb5e-95e7bfb58727",
   "metadata": {},
   "outputs": [],
   "source": [
    "gdf = gdf[-36:]"
   ]
  },
  {
   "cell_type": "code",
   "execution_count": 283,
   "id": "07a0b1f5-d456-4351-bedc-10d7592e93fc",
   "metadata": {},
   "outputs": [],
   "source": [
    "gdf = gdf[[\"Year\", \"Real Values\"]]"
   ]
  },
  {
   "cell_type": "code",
   "execution_count": 402,
   "id": "71543bf0-1b75-40cf-bff3-69f61200ed66",
   "metadata": {},
   "outputs": [
    {
     "data": {
      "text/html": [
       "<div>\n",
       "<style scoped>\n",
       "    .dataframe tbody tr th:only-of-type {\n",
       "        vertical-align: middle;\n",
       "    }\n",
       "\n",
       "    .dataframe tbody tr th {\n",
       "        vertical-align: top;\n",
       "    }\n",
       "\n",
       "    .dataframe thead th {\n",
       "        text-align: right;\n",
       "    }\n",
       "</style>\n",
       "<table border=\"1\" class=\"dataframe\">\n",
       "  <thead>\n",
       "    <tr style=\"text-align: right;\">\n",
       "      <th></th>\n",
       "      <th>Year</th>\n",
       "      <th>Real Values</th>\n",
       "      <th>Year_Change(%)</th>\n",
       "    </tr>\n",
       "  </thead>\n",
       "  <tbody>\n",
       "    <tr>\n",
       "      <th>35</th>\n",
       "      <td>1989</td>\n",
       "      <td>2.46</td>\n",
       "      <td>NaN</td>\n",
       "    </tr>\n",
       "    <tr>\n",
       "      <th>34</th>\n",
       "      <td>1990</td>\n",
       "      <td>2.67</td>\n",
       "      <td>8.536585</td>\n",
       "    </tr>\n",
       "    <tr>\n",
       "      <th>33</th>\n",
       "      <td>1991</td>\n",
       "      <td>2.50</td>\n",
       "      <td>-6.367041</td>\n",
       "    </tr>\n",
       "    <tr>\n",
       "      <th>32</th>\n",
       "      <td>1992</td>\n",
       "      <td>2.39</td>\n",
       "      <td>-4.400000</td>\n",
       "    </tr>\n",
       "    <tr>\n",
       "      <th>31</th>\n",
       "      <td>1993</td>\n",
       "      <td>2.28</td>\n",
       "      <td>-4.602510</td>\n",
       "    </tr>\n",
       "  </tbody>\n",
       "</table>\n",
       "</div>"
      ],
      "text/plain": [
       "    Year  Real Values  Year_Change(%)\n",
       "35  1989         2.46             NaN\n",
       "34  1990         2.67        8.536585\n",
       "33  1991         2.50       -6.367041\n",
       "32  1992         2.39       -4.400000\n",
       "31  1993         2.28       -4.602510"
      ]
     },
     "execution_count": 402,
     "metadata": {},
     "output_type": "execute_result"
    }
   ],
   "source": [
    "gdf.head(5)"
   ]
  },
  {
   "cell_type": "code",
   "execution_count": 363,
   "id": "9e5bdd19-902b-4648-b015-8ebd063df3eb",
   "metadata": {},
   "outputs": [],
   "source": [
    "#Creating the Column that tracks percent change of gas prices year over year\n",
    "gdf['Year_Change'] = gdf['Real Values'].pct_change()*100"
   ]
  },
  {
   "cell_type": "markdown",
   "id": "fda38e8f-67d4-4e33-b603-da6fd370ac41",
   "metadata": {},
   "source": [
    "Year Change Formula\n",
    "$$ YC = \\frac{x_2-x_1}{x_1} $$"
   ]
  },
  {
   "cell_type": "code",
   "execution_count": 369,
   "id": "23c5bf73-ca04-4022-8067-3ec3b2cc6ed4",
   "metadata": {},
   "outputs": [],
   "source": [
    "gdf = gdf[['Year', 'Real Values','Year_Change(%)']]"
   ]
  },
  {
   "cell_type": "code",
   "execution_count": 177,
   "id": "f90ba81c-a3d2-4ef2-aa43-21faec82e33c",
   "metadata": {},
   "outputs": [],
   "source": [
    "#I am going to merge both the hypothesis 1 and hypothesis 2 merge tables, to make it easier to help me merge the last gas table in the future.\n",
    "sup_merge = pd.merge(merge_df, Lob_merge, on = \"Year\")"
   ]
  },
  {
   "cell_type": "code",
   "execution_count": 383,
   "id": "90141cae-ead1-45a1-866d-4a4a6fc542b9",
   "metadata": {},
   "outputs": [],
   "source": [
    "gas_merge = pd.merge(sup_merge, gdf, on = \"Year\")"
   ]
  },
  {
   "cell_type": "code",
   "execution_count": 387,
   "id": "9198f532-7dc8-4a47-b76d-86c0d1b9e20d",
   "metadata": {},
   "outputs": [
    {
     "data": {
      "text/html": [
       "<div>\n",
       "<style scoped>\n",
       "    .dataframe tbody tr th:only-of-type {\n",
       "        vertical-align: middle;\n",
       "    }\n",
       "\n",
       "    .dataframe tbody tr th {\n",
       "        vertical-align: top;\n",
       "    }\n",
       "\n",
       "    .dataframe thead th {\n",
       "        text-align: right;\n",
       "    }\n",
       "</style>\n",
       "<table border=\"1\" class=\"dataframe\">\n",
       "  <thead>\n",
       "    <tr style=\"text-align: right;\">\n",
       "      <th></th>\n",
       "      <th>Year</th>\n",
       "      <th>Support_Env_x</th>\n",
       "      <th>Oppose_Env_x</th>\n",
       "      <th>Price</th>\n",
       "      <th>Support_Env_y</th>\n",
       "      <th>Oppose_Env_y</th>\n",
       "      <th>Total</th>\n",
       "      <th>Clients</th>\n",
       "      <th>Real Values</th>\n",
       "      <th>Year_Change(%)</th>\n",
       "    </tr>\n",
       "  </thead>\n",
       "  <tbody>\n",
       "    <tr>\n",
       "      <th>0</th>\n",
       "      <td>1999</td>\n",
       "      <td>59.0</td>\n",
       "      <td>39</td>\n",
       "      <td>113.02819</td>\n",
       "      <td>59.0</td>\n",
       "      <td>39</td>\n",
       "      <td>60209200.0</td>\n",
       "      <td>140</td>\n",
       "      <td>2.11</td>\n",
       "      <td>8.205128</td>\n",
       "    </tr>\n",
       "  </tbody>\n",
       "</table>\n",
       "</div>"
      ],
      "text/plain": [
       "   Year  Support_Env_x  Oppose_Env_x      Price  Support_Env_y  Oppose_Env_y  \\\n",
       "0  1999           59.0            39  113.02819           59.0            39   \n",
       "\n",
       "        Total  Clients  Real Values  Year_Change(%)  \n",
       "0  60209200.0      140         2.11        8.205128  "
      ]
     },
     "execution_count": 387,
     "metadata": {},
     "output_type": "execute_result"
    }
   ],
   "source": [
    "gas_merge.head(1)"
   ]
  },
  {
   "cell_type": "code",
   "execution_count": 404,
   "id": "88159a62-e101-4e51-b84f-0149e925e99d",
   "metadata": {},
   "outputs": [
    {
     "data": {
      "image/png": "[encoded data removed]",
      "text/plain": [
       "<Figure size 640x480 with 1 Axes>"
      ]
     },
     "metadata": {},
     "output_type": "display_data"
    }
   ],
   "source": [
    "#This is a line graph that tracks the year over year change over the years\n",
    "plt.plot(gas_merge[\"Year\"], gas_merge['Year_Change(%)'])\n",
    "plt.show()"
   ]
  },
  {
   "cell_type": "code",
   "execution_count": 396,
   "id": "f5e40d0d-83cb-47a5-8c9f-3f901a175f7e",
   "metadata": {},
   "outputs": [
    {
     "data": {
      "image/png": "[encoded data removed]",
      "text/plain": [
       "<Figure size 640x480 with 1 Axes>"
      ]
     },
     "metadata": {},
     "output_type": "display_data"
    }
   ],
   "source": [
    "#THis is a scatter plot that tracks the yearly change and the support americans have for the environemnt. \n",
    "gas_merge.plot.scatter(x ='Year_Change(%)', y = 'Support_Env_y', title='Effect of YoY Gas Change on Environmetal Support')\n",
    "plt.text(merge_df['Price'].min(), merge_df['Support_Env'].max(), f'R-squared: {r_value**2:.2f}', fontsize=10, color='blue', ha = 'left')\n",
    "plt.show()"
   ]
  },
  {
   "cell_type": "code",
   "execution_count": 405,
   "id": "e34276c4-56af-41af-8e5f-51c67447e5f2",
   "metadata": {},
   "outputs": [
    {
     "name": "stdout",
     "output_type": "stream",
     "text": [
      "y = 0.05x + 60.91\n"
     ]
    }
   ],
   "source": [
    "slope, intercept, r_value, p_value, std_err = linregress(gas_merge['Year_Change(%)'], gas_merge['Support_Env_y'])\n",
    "equation = f\"y = {slope:.2f}x + {intercept:.2f}\"\n",
    "print(equation)"
   ]
  },
  {
   "cell_type": "code",
   "execution_count": 406,
   "id": "426a4e24-1213-4264-9cd2-d2b0afa4a55a",
   "metadata": {},
   "outputs": [
    {
     "name": "stdout",
     "output_type": "stream",
     "text": [
      "0.12822198095168463\n",
      "0.5324721652125131\n",
      "0.04693727203673618\n"
     ]
    }
   ],
   "source": [
    "print(r_value)\n",
    "print(p_value)\n",
    "print(slope)"
   ]
  },
  {
   "cell_type": "markdown",
   "id": "a4c77d02-3b1f-43a1-89c6-de58385d20c7",
   "metadata": {},
   "source": [
    "### Linear regression and analysis ###\n",
    "We can see a relationship between both variables in this case with this equation. $$ y = 0.05x + 60.91 $$ There is a positive relationship in where support for the environment actually goes up as there are positive yearly changes. This can be for a variety of reasons, and I believe Americans begin to think more critically when the prices of their gas tanks change and begin to form more opinions. These new opinions can be positive, as the data demonstrates. "
   ]
  },
  {
   "cell_type": "markdown",
   "id": "3c720689-21f3-495b-a057-4ab5835dd325",
   "metadata": {
    "jp-MarkdownHeadingCollapsed": true
   },
   "source": [
    "## Multi-Variable Analysis ##\n",
    "In this section, I will compare all of the variables mentioned to see in what context they are related with one another. I will use the correlate tool. "
   ]
  },
  {
   "cell_type": "markdown",
   "id": "5cec17fe-7160-4959-aae8-661852ce96bd",
   "metadata": {},
   "source": [
    "- Support_Env_x is the share of support for the environment\n",
    "- Price is the price of oil in any given year\n",
    "- Total is the total amount of money spent\n",
    "- Clients is the number of firms in a year considered to donate to the oil lobby\n",
    "- Real Values is the yearly price of a gallon of gas adjusted for inflation\n",
    "- Year Change measures the volatility of gas prices by tracking the percent change over years"
   ]
  },
  {
   "cell_type": "code",
   "execution_count": 408,
   "id": "1deb8fa1-e74a-41ee-86e9-c1b458f6336e",
   "metadata": {},
   "outputs": [
    {
     "data": {
      "text/html": [
       "<div>\n",
       "<style scoped>\n",
       "    .dataframe tbody tr th:only-of-type {\n",
       "        vertical-align: middle;\n",
       "    }\n",
       "\n",
       "    .dataframe tbody tr th {\n",
       "        vertical-align: top;\n",
       "    }\n",
       "\n",
       "    .dataframe thead th {\n",
       "        text-align: right;\n",
       "    }\n",
       "</style>\n",
       "<table border=\"1\" class=\"dataframe\">\n",
       "  <thead>\n",
       "    <tr style=\"text-align: right;\">\n",
       "      <th></th>\n",
       "      <th>Year</th>\n",
       "      <th>Support_Env_x</th>\n",
       "      <th>Oppose_Env_x</th>\n",
       "      <th>Price</th>\n",
       "      <th>Support_Env_y</th>\n",
       "      <th>Oppose_Env_y</th>\n",
       "      <th>Total</th>\n",
       "      <th>Clients</th>\n",
       "      <th>Real Values</th>\n",
       "      <th>Year_Change(%)</th>\n",
       "    </tr>\n",
       "  </thead>\n",
       "  <tbody>\n",
       "    <tr>\n",
       "      <th>0</th>\n",
       "      <td>1999</td>\n",
       "      <td>59.0</td>\n",
       "      <td>39</td>\n",
       "      <td>113.02819</td>\n",
       "      <td>59.0</td>\n",
       "      <td>39</td>\n",
       "      <td>60209200.0</td>\n",
       "      <td>140</td>\n",
       "      <td>2.11</td>\n",
       "      <td>8.205128</td>\n",
       "    </tr>\n",
       "    <tr>\n",
       "      <th>1</th>\n",
       "      <td>1999</td>\n",
       "      <td>59.0</td>\n",
       "      <td>39</td>\n",
       "      <td>113.02819</td>\n",
       "      <td>68.0</td>\n",
       "      <td>30</td>\n",
       "      <td>60209200.0</td>\n",
       "      <td>140</td>\n",
       "      <td>2.11</td>\n",
       "      <td>8.205128</td>\n",
       "    </tr>\n",
       "    <tr>\n",
       "      <th>2</th>\n",
       "      <td>1999</td>\n",
       "      <td>68.0</td>\n",
       "      <td>30</td>\n",
       "      <td>113.02819</td>\n",
       "      <td>59.0</td>\n",
       "      <td>39</td>\n",
       "      <td>60209200.0</td>\n",
       "      <td>140</td>\n",
       "      <td>2.11</td>\n",
       "      <td>8.205128</td>\n",
       "    </tr>\n",
       "    <tr>\n",
       "      <th>3</th>\n",
       "      <td>1999</td>\n",
       "      <td>68.0</td>\n",
       "      <td>30</td>\n",
       "      <td>113.02819</td>\n",
       "      <td>68.0</td>\n",
       "      <td>30</td>\n",
       "      <td>60209200.0</td>\n",
       "      <td>140</td>\n",
       "      <td>2.11</td>\n",
       "      <td>8.205128</td>\n",
       "    </tr>\n",
       "    <tr>\n",
       "      <th>4</th>\n",
       "      <td>2000</td>\n",
       "      <td>72.0</td>\n",
       "      <td>27</td>\n",
       "      <td>179.23068</td>\n",
       "      <td>72.0</td>\n",
       "      <td>27</td>\n",
       "      <td>50753883.0</td>\n",
       "      <td>145</td>\n",
       "      <td>2.67</td>\n",
       "      <td>26.540284</td>\n",
       "    </tr>\n",
       "  </tbody>\n",
       "</table>\n",
       "</div>"
      ],
      "text/plain": [
       "   Year  Support_Env_x  Oppose_Env_x      Price  Support_Env_y  Oppose_Env_y  \\\n",
       "0  1999           59.0            39  113.02819           59.0            39   \n",
       "1  1999           59.0            39  113.02819           68.0            30   \n",
       "2  1999           68.0            30  113.02819           59.0            39   \n",
       "3  1999           68.0            30  113.02819           68.0            30   \n",
       "4  2000           72.0            27  179.23068           72.0            27   \n",
       "\n",
       "        Total  Clients  Real Values  Year_Change(%)  \n",
       "0  60209200.0      140         2.11        8.205128  \n",
       "1  60209200.0      140         2.11        8.205128  \n",
       "2  60209200.0      140         2.11        8.205128  \n",
       "3  60209200.0      140         2.11        8.205128  \n",
       "4  50753883.0      145         2.67       26.540284  "
      ]
     },
     "execution_count": 408,
     "metadata": {},
     "output_type": "execute_result"
    }
   ],
   "source": [
    "gas_merge.head(5)"
   ]
  },
  {
   "cell_type": "code",
   "execution_count": 409,
   "id": "186e16a6-2d58-4c5b-877a-11c7f86475e5",
   "metadata": {},
   "outputs": [
    {
     "data": {
      "text/plain": [
       "Index(['Year', 'Support_Env_x', 'Oppose_Env_x', 'Price', 'Support_Env_y',\n",
       "       'Oppose_Env_y', 'Total', 'Clients', 'Real Values', 'Year_Change(%)'],\n",
       "      dtype='object')"
      ]
     },
     "execution_count": 409,
     "metadata": {},
     "output_type": "execute_result"
    }
   ],
   "source": [
    "gas_merge.columns"
   ]
  },
  {
   "cell_type": "code",
   "execution_count": 410,
   "id": "af0f1d21-f1ac-4c86-92b3-92194598e912",
   "metadata": {},
   "outputs": [
    {
     "data": {
      "text/html": [
       "<div>\n",
       "<style scoped>\n",
       "    .dataframe tbody tr th:only-of-type {\n",
       "        vertical-align: middle;\n",
       "    }\n",
       "\n",
       "    .dataframe tbody tr th {\n",
       "        vertical-align: top;\n",
       "    }\n",
       "\n",
       "    .dataframe thead th {\n",
       "        text-align: right;\n",
       "    }\n",
       "</style>\n",
       "<table border=\"1\" class=\"dataframe\">\n",
       "  <thead>\n",
       "    <tr style=\"text-align: right;\">\n",
       "      <th></th>\n",
       "      <th>Year</th>\n",
       "      <th>Support_Env_x</th>\n",
       "      <th>Price</th>\n",
       "      <th>Total</th>\n",
       "      <th>Real Values</th>\n",
       "      <th>Year_Change(%)</th>\n",
       "    </tr>\n",
       "  </thead>\n",
       "  <tbody>\n",
       "    <tr>\n",
       "      <th>Year</th>\n",
       "      <td>1.000000</td>\n",
       "      <td>-0.000143</td>\n",
       "      <td>0.614773</td>\n",
       "      <td>0.740060</td>\n",
       "      <td>0.473159</td>\n",
       "      <td>-0.125451</td>\n",
       "    </tr>\n",
       "    <tr>\n",
       "      <th>Support_Env_x</th>\n",
       "      <td>-0.000143</td>\n",
       "      <td>1.000000</td>\n",
       "      <td>-0.306535</td>\n",
       "      <td>-0.257843</td>\n",
       "      <td>-0.335238</td>\n",
       "      <td>0.128222</td>\n",
       "    </tr>\n",
       "    <tr>\n",
       "      <th>Price</th>\n",
       "      <td>0.614773</td>\n",
       "      <td>-0.306535</td>\n",
       "      <td>1.000000</td>\n",
       "      <td>0.793631</td>\n",
       "      <td>0.972244</td>\n",
       "      <td>0.104911</td>\n",
       "    </tr>\n",
       "    <tr>\n",
       "      <th>Total</th>\n",
       "      <td>0.740060</td>\n",
       "      <td>-0.257843</td>\n",
       "      <td>0.793631</td>\n",
       "      <td>1.000000</td>\n",
       "      <td>0.698756</td>\n",
       "      <td>-0.272000</td>\n",
       "    </tr>\n",
       "    <tr>\n",
       "      <th>Real Values</th>\n",
       "      <td>0.473159</td>\n",
       "      <td>-0.335238</td>\n",
       "      <td>0.972244</td>\n",
       "      <td>0.698756</td>\n",
       "      <td>1.000000</td>\n",
       "      <td>0.133657</td>\n",
       "    </tr>\n",
       "    <tr>\n",
       "      <th>Year_Change(%)</th>\n",
       "      <td>-0.125451</td>\n",
       "      <td>0.128222</td>\n",
       "      <td>0.104911</td>\n",
       "      <td>-0.272000</td>\n",
       "      <td>0.133657</td>\n",
       "      <td>1.000000</td>\n",
       "    </tr>\n",
       "  </tbody>\n",
       "</table>\n",
       "</div>"
      ],
      "text/plain": [
       "                    Year  Support_Env_x     Price     Total  Real Values  \\\n",
       "Year            1.000000      -0.000143  0.614773  0.740060     0.473159   \n",
       "Support_Env_x  -0.000143       1.000000 -0.306535 -0.257843    -0.335238   \n",
       "Price           0.614773      -0.306535  1.000000  0.793631     0.972244   \n",
       "Total           0.740060      -0.257843  0.793631  1.000000     0.698756   \n",
       "Real Values     0.473159      -0.335238  0.972244  0.698756     1.000000   \n",
       "Year_Change(%) -0.125451       0.128222  0.104911 -0.272000     0.133657   \n",
       "\n",
       "                Year_Change(%)  \n",
       "Year                 -0.125451  \n",
       "Support_Env_x         0.128222  \n",
       "Price                 0.104911  \n",
       "Total                -0.272000  \n",
       "Real Values           0.133657  \n",
       "Year_Change(%)        1.000000  "
      ]
     },
     "execution_count": 410,
     "metadata": {},
     "output_type": "execute_result"
    }
   ],
   "source": [
    "#multi-variable correlation table to see the effect of each variable in comparison with one another \n",
    "gas_merge[['Year', 'Support_Env_x', 'Price',\n",
    "       'Total',' Real Values','Year_Change(%)' ]].corr()"
   ]
  },
  {
   "cell_type": "markdown",
   "id": "8df46ab1-708c-4407-bcdf-8b9715e9441f",
   "metadata": {},
   "source": [
    "### Analysis ###\n",
    "We can see a variety of intersting opbservations in our correlation table. There is a medium-level connection between many of these variables. Environmental support, the variable we were tracking, seems to resonate most with our Real Values variable. I suggest further analysis for all of these variables with one another, with a larger data set stemming from farther back in time.  "
   ]
  },
  {
   "cell_type": "markdown",
   "id": "1264b28d-00a0-40e2-8b43-e2dfdc5f73de",
   "metadata": {},
   "source": [
    "## Conclusion ##\n",
    "\n",
    "The average American seems to care about the environment a great deal. Their feelings fluctuate through a variety of different circumstances, but of these, the change in year-to-year gas is the most compelling variable. The field of American Politics can benefit greatly by using methods like these to test the power of variables against one another. "
   ]
  }
 ],
 "metadata": {
  "kernelspec": {
   "display_name": "Python 3 (ipykernel)",
   "language": "python",
   "name": "python3"
  },
  "language_info": {
   "codemirror_mode": {
    "name": "ipython",
    "version": 3
   },
   "file_extension": ".py",
   "mimetype": "text/x-python",
   "name": "python",
   "nbconvert_exporter": "python",
   "pygments_lexer": "ipython3",
   "version": "3.10.5"
  }
 },
 "nbformat": 4,
 "nbformat_minor": 5
}
